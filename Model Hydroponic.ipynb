{
 "cells": [
  {
   "cell_type": "code",
   "execution_count": 5,
   "metadata": {},
   "outputs": [],
   "source": [
    "import pandas as pd\n",
    "import matplotlib.pyplot as plt\n",
    "import seaborn as sns\n",
    "import numpy as np\n",
    "import imblearn as imb\n",
    "from collections import Counter\n",
    "from numpy import where\n",
    "from tensorflow.keras import Sequential\n",
    "from tensorflow.keras.layers import Dense\n",
    "import tensorflow as tf\n",
    "import warnings\n",
    "warnings.filterwarnings(\"ignore\")"
   ]
  },
  {
   "cell_type": "code",
   "execution_count": 6,
   "metadata": {},
   "outputs": [],
   "source": [
    "data = pd.read_csv('dataset.csv')"
   ]
  },
  {
   "cell_type": "code",
   "execution_count": 7,
   "metadata": {},
   "outputs": [
    {
     "data": {
      "text/html": [
       "<div>\n",
       "<style scoped>\n",
       "    .dataframe tbody tr th:only-of-type {\n",
       "        vertical-align: middle;\n",
       "    }\n",
       "\n",
       "    .dataframe tbody tr th {\n",
       "        vertical-align: top;\n",
       "    }\n",
       "\n",
       "    .dataframe thead th {\n",
       "        text-align: right;\n",
       "    }\n",
       "</style>\n",
       "<table border=\"1\" class=\"dataframe\">\n",
       "  <thead>\n",
       "    <tr style=\"text-align: right;\">\n",
       "      <th></th>\n",
       "      <th>PH</th>\n",
       "      <th>cahaya</th>\n",
       "      <th>intensitas air</th>\n",
       "      <th>suhu</th>\n",
       "      <th>PPM</th>\n",
       "      <th>tinggi air</th>\n",
       "      <th>aksi</th>\n",
       "    </tr>\n",
       "  </thead>\n",
       "  <tbody>\n",
       "    <tr>\n",
       "      <th>0</th>\n",
       "      <td>6.5</td>\n",
       "      <td>Ada</td>\n",
       "      <td>Tinggi</td>\n",
       "      <td>27.0</td>\n",
       "      <td>188.0</td>\n",
       "      <td>622</td>\n",
       "      <td>Hidupkan Lampu dan Pompa nutrisi TDS</td>\n",
       "    </tr>\n",
       "    <tr>\n",
       "      <th>1</th>\n",
       "      <td>5.7</td>\n",
       "      <td>Ada</td>\n",
       "      <td>Tinggi</td>\n",
       "      <td>26.9</td>\n",
       "      <td>79.0</td>\n",
       "      <td>557</td>\n",
       "      <td>Hidupkan Lampu dan Pompa nutrisi TDS</td>\n",
       "    </tr>\n",
       "    <tr>\n",
       "      <th>2</th>\n",
       "      <td>6.0</td>\n",
       "      <td>Ada</td>\n",
       "      <td>Tinggi</td>\n",
       "      <td>27.0</td>\n",
       "      <td>11.0</td>\n",
       "      <td>491</td>\n",
       "      <td>Hidupkan Lampu dan Pompa nutrisi TDS</td>\n",
       "    </tr>\n",
       "    <tr>\n",
       "      <th>3</th>\n",
       "      <td>6.5</td>\n",
       "      <td>Ada</td>\n",
       "      <td>Tinggi</td>\n",
       "      <td>27.1</td>\n",
       "      <td>345.0</td>\n",
       "      <td>12000</td>\n",
       "      <td>Tidak melakukan apa-apa</td>\n",
       "    </tr>\n",
       "    <tr>\n",
       "      <th>4</th>\n",
       "      <td>6.2</td>\n",
       "      <td>NaN</td>\n",
       "      <td>Tinggi</td>\n",
       "      <td>27.1</td>\n",
       "      <td>602.0</td>\n",
       "      <td>444</td>\n",
       "      <td>Tidak melakukan apa-apa</td>\n",
       "    </tr>\n",
       "    <tr>\n",
       "      <th>...</th>\n",
       "      <td>...</td>\n",
       "      <td>...</td>\n",
       "      <td>...</td>\n",
       "      <td>...</td>\n",
       "      <td>...</td>\n",
       "      <td>...</td>\n",
       "      <td>...</td>\n",
       "    </tr>\n",
       "    <tr>\n",
       "      <th>611</th>\n",
       "      <td>4.6</td>\n",
       "      <td>Ada</td>\n",
       "      <td>Rendah sekali</td>\n",
       "      <td>25.3</td>\n",
       "      <td>904.0</td>\n",
       "      <td>47</td>\n",
       "      <td>Hidupkan Lampu</td>\n",
       "    </tr>\n",
       "    <tr>\n",
       "      <th>612</th>\n",
       "      <td>2.1</td>\n",
       "      <td>Ada</td>\n",
       "      <td>Rendah sekali</td>\n",
       "      <td>25.0</td>\n",
       "      <td>388.0</td>\n",
       "      <td>18</td>\n",
       "      <td>Hidupkan Lampu dan Pompa nutrisi TDS</td>\n",
       "    </tr>\n",
       "    <tr>\n",
       "      <th>613</th>\n",
       "      <td>3.2</td>\n",
       "      <td>Ada</td>\n",
       "      <td>Rendah sekali</td>\n",
       "      <td>25.3</td>\n",
       "      <td>793.0</td>\n",
       "      <td>19</td>\n",
       "      <td>Hidupkan Lampu</td>\n",
       "    </tr>\n",
       "    <tr>\n",
       "      <th>614</th>\n",
       "      <td>1.4</td>\n",
       "      <td>Ada</td>\n",
       "      <td>Rendah sekali</td>\n",
       "      <td>25.4</td>\n",
       "      <td>1052.0</td>\n",
       "      <td>3</td>\n",
       "      <td>Hidupkan Lampu</td>\n",
       "    </tr>\n",
       "    <tr>\n",
       "      <th>615</th>\n",
       "      <td>5.0</td>\n",
       "      <td>Ada</td>\n",
       "      <td>Rendah sekali</td>\n",
       "      <td>25.3</td>\n",
       "      <td>977.0</td>\n",
       "      <td>19</td>\n",
       "      <td>Hidupkan Lampu</td>\n",
       "    </tr>\n",
       "  </tbody>\n",
       "</table>\n",
       "<p>616 rows × 7 columns</p>\n",
       "</div>"
      ],
      "text/plain": [
       "      PH cahaya intensitas air  suhu     PPM  tinggi air  \\\n",
       "0    6.5    Ada         Tinggi  27.0   188.0         622   \n",
       "1    5.7    Ada         Tinggi  26.9    79.0         557   \n",
       "2    6.0    Ada         Tinggi  27.0    11.0         491   \n",
       "3    6.5    Ada         Tinggi  27.1   345.0       12000   \n",
       "4    6.2    NaN         Tinggi  27.1   602.0         444   \n",
       "..   ...    ...            ...   ...     ...         ...   \n",
       "611  4.6    Ada  Rendah sekali  25.3   904.0          47   \n",
       "612  2.1    Ada  Rendah sekali  25.0   388.0          18   \n",
       "613  3.2    Ada  Rendah sekali  25.3   793.0          19   \n",
       "614  1.4    Ada  Rendah sekali  25.4  1052.0           3   \n",
       "615  5.0    Ada  Rendah sekali  25.3   977.0          19   \n",
       "\n",
       "                                     aksi  \n",
       "0    Hidupkan Lampu dan Pompa nutrisi TDS  \n",
       "1    Hidupkan Lampu dan Pompa nutrisi TDS  \n",
       "2    Hidupkan Lampu dan Pompa nutrisi TDS  \n",
       "3                 Tidak melakukan apa-apa  \n",
       "4                 Tidak melakukan apa-apa  \n",
       "..                                    ...  \n",
       "611                        Hidupkan Lampu  \n",
       "612  Hidupkan Lampu dan Pompa nutrisi TDS  \n",
       "613                        Hidupkan Lampu  \n",
       "614                        Hidupkan Lampu  \n",
       "615                        Hidupkan Lampu  \n",
       "\n",
       "[616 rows x 7 columns]"
      ]
     },
     "execution_count": 7,
     "metadata": {},
     "output_type": "execute_result"
    }
   ],
   "source": [
    "data"
   ]
  },
  {
   "cell_type": "markdown",
   "metadata": {},
   "source": [
    "## 1. Mengganti nama kolom yang menggunakan spasi"
   ]
  },
  {
   "cell_type": "code",
   "execution_count": 8,
   "metadata": {},
   "outputs": [
    {
     "data": {
      "text/plain": [
       "Index(['PH', 'cahaya', 'intensitas air', 'suhu', 'PPM', 'tinggi air', 'aksi'], dtype='object')"
      ]
     },
     "execution_count": 8,
     "metadata": {},
     "output_type": "execute_result"
    }
   ],
   "source": [
    "data.columns"
   ]
  },
  {
   "cell_type": "code",
   "execution_count": 9,
   "metadata": {},
   "outputs": [],
   "source": [
    "column = ['PH', 'cahaya', 'intensitas_air', 'suhu', 'PPM', 'tinggi_air',\n",
    "       'aksi']\n",
    "\n",
    "data.columns = column"
   ]
  },
  {
   "cell_type": "code",
   "execution_count": 10,
   "metadata": {},
   "outputs": [
    {
     "data": {
      "text/plain": [
       "Index(['PH', 'cahaya', 'intensitas_air', 'suhu', 'PPM', 'tinggi_air', 'aksi'], dtype='object')"
      ]
     },
     "execution_count": 10,
     "metadata": {},
     "output_type": "execute_result"
    }
   ],
   "source": [
    "data.columns"
   ]
  },
  {
   "cell_type": "markdown",
   "metadata": {},
   "source": [
    "## 2. Mengganti data kategorikal menjadi bentuk numerical (Clue : Labelencoder tidak bekerja ketika ada missing value, gunakan metode lain)"
   ]
  },
  {
   "cell_type": "code",
   "execution_count": 11,
   "metadata": {},
   "outputs": [
    {
     "data": {
      "text/html": [
       "<div>\n",
       "<style scoped>\n",
       "    .dataframe tbody tr th:only-of-type {\n",
       "        vertical-align: middle;\n",
       "    }\n",
       "\n",
       "    .dataframe tbody tr th {\n",
       "        vertical-align: top;\n",
       "    }\n",
       "\n",
       "    .dataframe thead th {\n",
       "        text-align: right;\n",
       "    }\n",
       "</style>\n",
       "<table border=\"1\" class=\"dataframe\">\n",
       "  <thead>\n",
       "    <tr style=\"text-align: right;\">\n",
       "      <th></th>\n",
       "      <th>PH</th>\n",
       "      <th>cahaya</th>\n",
       "      <th>intensitas_air</th>\n",
       "      <th>suhu</th>\n",
       "      <th>PPM</th>\n",
       "      <th>tinggi_air</th>\n",
       "      <th>aksi</th>\n",
       "    </tr>\n",
       "  </thead>\n",
       "  <tbody>\n",
       "    <tr>\n",
       "      <th>0</th>\n",
       "      <td>6.5</td>\n",
       "      <td>1.0</td>\n",
       "      <td>Tinggi</td>\n",
       "      <td>27.0</td>\n",
       "      <td>188.0</td>\n",
       "      <td>622</td>\n",
       "      <td>Hidupkan Lampu dan Pompa nutrisi TDS</td>\n",
       "    </tr>\n",
       "    <tr>\n",
       "      <th>1</th>\n",
       "      <td>5.7</td>\n",
       "      <td>1.0</td>\n",
       "      <td>Tinggi</td>\n",
       "      <td>26.9</td>\n",
       "      <td>79.0</td>\n",
       "      <td>557</td>\n",
       "      <td>Hidupkan Lampu dan Pompa nutrisi TDS</td>\n",
       "    </tr>\n",
       "    <tr>\n",
       "      <th>2</th>\n",
       "      <td>6.0</td>\n",
       "      <td>1.0</td>\n",
       "      <td>Tinggi</td>\n",
       "      <td>27.0</td>\n",
       "      <td>11.0</td>\n",
       "      <td>491</td>\n",
       "      <td>Hidupkan Lampu dan Pompa nutrisi TDS</td>\n",
       "    </tr>\n",
       "    <tr>\n",
       "      <th>3</th>\n",
       "      <td>6.5</td>\n",
       "      <td>1.0</td>\n",
       "      <td>Tinggi</td>\n",
       "      <td>27.1</td>\n",
       "      <td>345.0</td>\n",
       "      <td>12000</td>\n",
       "      <td>Tidak melakukan apa-apa</td>\n",
       "    </tr>\n",
       "    <tr>\n",
       "      <th>4</th>\n",
       "      <td>6.2</td>\n",
       "      <td>NaN</td>\n",
       "      <td>Tinggi</td>\n",
       "      <td>27.1</td>\n",
       "      <td>602.0</td>\n",
       "      <td>444</td>\n",
       "      <td>Tidak melakukan apa-apa</td>\n",
       "    </tr>\n",
       "    <tr>\n",
       "      <th>...</th>\n",
       "      <td>...</td>\n",
       "      <td>...</td>\n",
       "      <td>...</td>\n",
       "      <td>...</td>\n",
       "      <td>...</td>\n",
       "      <td>...</td>\n",
       "      <td>...</td>\n",
       "    </tr>\n",
       "    <tr>\n",
       "      <th>611</th>\n",
       "      <td>4.6</td>\n",
       "      <td>1.0</td>\n",
       "      <td>Rendah sekali</td>\n",
       "      <td>25.3</td>\n",
       "      <td>904.0</td>\n",
       "      <td>47</td>\n",
       "      <td>Hidupkan Lampu</td>\n",
       "    </tr>\n",
       "    <tr>\n",
       "      <th>612</th>\n",
       "      <td>2.1</td>\n",
       "      <td>1.0</td>\n",
       "      <td>Rendah sekali</td>\n",
       "      <td>25.0</td>\n",
       "      <td>388.0</td>\n",
       "      <td>18</td>\n",
       "      <td>Hidupkan Lampu dan Pompa nutrisi TDS</td>\n",
       "    </tr>\n",
       "    <tr>\n",
       "      <th>613</th>\n",
       "      <td>3.2</td>\n",
       "      <td>1.0</td>\n",
       "      <td>Rendah sekali</td>\n",
       "      <td>25.3</td>\n",
       "      <td>793.0</td>\n",
       "      <td>19</td>\n",
       "      <td>Hidupkan Lampu</td>\n",
       "    </tr>\n",
       "    <tr>\n",
       "      <th>614</th>\n",
       "      <td>1.4</td>\n",
       "      <td>1.0</td>\n",
       "      <td>Rendah sekali</td>\n",
       "      <td>25.4</td>\n",
       "      <td>1052.0</td>\n",
       "      <td>3</td>\n",
       "      <td>Hidupkan Lampu</td>\n",
       "    </tr>\n",
       "    <tr>\n",
       "      <th>615</th>\n",
       "      <td>5.0</td>\n",
       "      <td>1.0</td>\n",
       "      <td>Rendah sekali</td>\n",
       "      <td>25.3</td>\n",
       "      <td>977.0</td>\n",
       "      <td>19</td>\n",
       "      <td>Hidupkan Lampu</td>\n",
       "    </tr>\n",
       "  </tbody>\n",
       "</table>\n",
       "<p>616 rows × 7 columns</p>\n",
       "</div>"
      ],
      "text/plain": [
       "      PH  cahaya intensitas_air  suhu     PPM  tinggi_air  \\\n",
       "0    6.5     1.0         Tinggi  27.0   188.0         622   \n",
       "1    5.7     1.0         Tinggi  26.9    79.0         557   \n",
       "2    6.0     1.0         Tinggi  27.0    11.0         491   \n",
       "3    6.5     1.0         Tinggi  27.1   345.0       12000   \n",
       "4    6.2     NaN         Tinggi  27.1   602.0         444   \n",
       "..   ...     ...            ...   ...     ...         ...   \n",
       "611  4.6     1.0  Rendah sekali  25.3   904.0          47   \n",
       "612  2.1     1.0  Rendah sekali  25.0   388.0          18   \n",
       "613  3.2     1.0  Rendah sekali  25.3   793.0          19   \n",
       "614  1.4     1.0  Rendah sekali  25.4  1052.0           3   \n",
       "615  5.0     1.0  Rendah sekali  25.3   977.0          19   \n",
       "\n",
       "                                     aksi  \n",
       "0    Hidupkan Lampu dan Pompa nutrisi TDS  \n",
       "1    Hidupkan Lampu dan Pompa nutrisi TDS  \n",
       "2    Hidupkan Lampu dan Pompa nutrisi TDS  \n",
       "3                 Tidak melakukan apa-apa  \n",
       "4                 Tidak melakukan apa-apa  \n",
       "..                                    ...  \n",
       "611                        Hidupkan Lampu  \n",
       "612  Hidupkan Lampu dan Pompa nutrisi TDS  \n",
       "613                        Hidupkan Lampu  \n",
       "614                        Hidupkan Lampu  \n",
       "615                        Hidupkan Lampu  \n",
       "\n",
       "[616 rows x 7 columns]"
      ]
     },
     "execution_count": 11,
     "metadata": {},
     "output_type": "execute_result"
    }
   ],
   "source": [
    "def category_to_num_cahaya(category):\n",
    "    if category=='Ada':\n",
    "        return 1\n",
    "    elif category=='Tidak ada':\n",
    "        return 0\n",
    "    else:\n",
    "        return category\n",
    "\n",
    "data[\"cahaya\"]=data[\"cahaya\"].apply(category_to_num_cahaya)\n",
    "data"
   ]
  },
  {
   "cell_type": "code",
   "execution_count": 12,
   "metadata": {},
   "outputs": [
    {
     "data": {
      "text/html": [
       "<div>\n",
       "<style scoped>\n",
       "    .dataframe tbody tr th:only-of-type {\n",
       "        vertical-align: middle;\n",
       "    }\n",
       "\n",
       "    .dataframe tbody tr th {\n",
       "        vertical-align: top;\n",
       "    }\n",
       "\n",
       "    .dataframe thead th {\n",
       "        text-align: right;\n",
       "    }\n",
       "</style>\n",
       "<table border=\"1\" class=\"dataframe\">\n",
       "  <thead>\n",
       "    <tr style=\"text-align: right;\">\n",
       "      <th></th>\n",
       "      <th>PH</th>\n",
       "      <th>cahaya</th>\n",
       "      <th>intensitas_air</th>\n",
       "      <th>suhu</th>\n",
       "      <th>PPM</th>\n",
       "      <th>tinggi_air</th>\n",
       "      <th>aksi</th>\n",
       "    </tr>\n",
       "  </thead>\n",
       "  <tbody>\n",
       "    <tr>\n",
       "      <th>0</th>\n",
       "      <td>6.5</td>\n",
       "      <td>1.0</td>\n",
       "      <td>3.0</td>\n",
       "      <td>27.0</td>\n",
       "      <td>188.0</td>\n",
       "      <td>622</td>\n",
       "      <td>Hidupkan Lampu dan Pompa nutrisi TDS</td>\n",
       "    </tr>\n",
       "    <tr>\n",
       "      <th>1</th>\n",
       "      <td>5.7</td>\n",
       "      <td>1.0</td>\n",
       "      <td>3.0</td>\n",
       "      <td>26.9</td>\n",
       "      <td>79.0</td>\n",
       "      <td>557</td>\n",
       "      <td>Hidupkan Lampu dan Pompa nutrisi TDS</td>\n",
       "    </tr>\n",
       "    <tr>\n",
       "      <th>2</th>\n",
       "      <td>6.0</td>\n",
       "      <td>1.0</td>\n",
       "      <td>3.0</td>\n",
       "      <td>27.0</td>\n",
       "      <td>11.0</td>\n",
       "      <td>491</td>\n",
       "      <td>Hidupkan Lampu dan Pompa nutrisi TDS</td>\n",
       "    </tr>\n",
       "    <tr>\n",
       "      <th>3</th>\n",
       "      <td>6.5</td>\n",
       "      <td>1.0</td>\n",
       "      <td>3.0</td>\n",
       "      <td>27.1</td>\n",
       "      <td>345.0</td>\n",
       "      <td>12000</td>\n",
       "      <td>Tidak melakukan apa-apa</td>\n",
       "    </tr>\n",
       "    <tr>\n",
       "      <th>4</th>\n",
       "      <td>6.2</td>\n",
       "      <td>NaN</td>\n",
       "      <td>3.0</td>\n",
       "      <td>27.1</td>\n",
       "      <td>602.0</td>\n",
       "      <td>444</td>\n",
       "      <td>Tidak melakukan apa-apa</td>\n",
       "    </tr>\n",
       "    <tr>\n",
       "      <th>...</th>\n",
       "      <td>...</td>\n",
       "      <td>...</td>\n",
       "      <td>...</td>\n",
       "      <td>...</td>\n",
       "      <td>...</td>\n",
       "      <td>...</td>\n",
       "      <td>...</td>\n",
       "    </tr>\n",
       "    <tr>\n",
       "      <th>611</th>\n",
       "      <td>4.6</td>\n",
       "      <td>1.0</td>\n",
       "      <td>0.0</td>\n",
       "      <td>25.3</td>\n",
       "      <td>904.0</td>\n",
       "      <td>47</td>\n",
       "      <td>Hidupkan Lampu</td>\n",
       "    </tr>\n",
       "    <tr>\n",
       "      <th>612</th>\n",
       "      <td>2.1</td>\n",
       "      <td>1.0</td>\n",
       "      <td>0.0</td>\n",
       "      <td>25.0</td>\n",
       "      <td>388.0</td>\n",
       "      <td>18</td>\n",
       "      <td>Hidupkan Lampu dan Pompa nutrisi TDS</td>\n",
       "    </tr>\n",
       "    <tr>\n",
       "      <th>613</th>\n",
       "      <td>3.2</td>\n",
       "      <td>1.0</td>\n",
       "      <td>0.0</td>\n",
       "      <td>25.3</td>\n",
       "      <td>793.0</td>\n",
       "      <td>19</td>\n",
       "      <td>Hidupkan Lampu</td>\n",
       "    </tr>\n",
       "    <tr>\n",
       "      <th>614</th>\n",
       "      <td>1.4</td>\n",
       "      <td>1.0</td>\n",
       "      <td>0.0</td>\n",
       "      <td>25.4</td>\n",
       "      <td>1052.0</td>\n",
       "      <td>3</td>\n",
       "      <td>Hidupkan Lampu</td>\n",
       "    </tr>\n",
       "    <tr>\n",
       "      <th>615</th>\n",
       "      <td>5.0</td>\n",
       "      <td>1.0</td>\n",
       "      <td>0.0</td>\n",
       "      <td>25.3</td>\n",
       "      <td>977.0</td>\n",
       "      <td>19</td>\n",
       "      <td>Hidupkan Lampu</td>\n",
       "    </tr>\n",
       "  </tbody>\n",
       "</table>\n",
       "<p>616 rows × 7 columns</p>\n",
       "</div>"
      ],
      "text/plain": [
       "      PH  cahaya  intensitas_air  suhu     PPM  tinggi_air  \\\n",
       "0    6.5     1.0             3.0  27.0   188.0         622   \n",
       "1    5.7     1.0             3.0  26.9    79.0         557   \n",
       "2    6.0     1.0             3.0  27.0    11.0         491   \n",
       "3    6.5     1.0             3.0  27.1   345.0       12000   \n",
       "4    6.2     NaN             3.0  27.1   602.0         444   \n",
       "..   ...     ...             ...   ...     ...         ...   \n",
       "611  4.6     1.0             0.0  25.3   904.0          47   \n",
       "612  2.1     1.0             0.0  25.0   388.0          18   \n",
       "613  3.2     1.0             0.0  25.3   793.0          19   \n",
       "614  1.4     1.0             0.0  25.4  1052.0           3   \n",
       "615  5.0     1.0             0.0  25.3   977.0          19   \n",
       "\n",
       "                                     aksi  \n",
       "0    Hidupkan Lampu dan Pompa nutrisi TDS  \n",
       "1    Hidupkan Lampu dan Pompa nutrisi TDS  \n",
       "2    Hidupkan Lampu dan Pompa nutrisi TDS  \n",
       "3                 Tidak melakukan apa-apa  \n",
       "4                 Tidak melakukan apa-apa  \n",
       "..                                    ...  \n",
       "611                        Hidupkan Lampu  \n",
       "612  Hidupkan Lampu dan Pompa nutrisi TDS  \n",
       "613                        Hidupkan Lampu  \n",
       "614                        Hidupkan Lampu  \n",
       "615                        Hidupkan Lampu  \n",
       "\n",
       "[616 rows x 7 columns]"
      ]
     },
     "execution_count": 12,
     "metadata": {},
     "output_type": "execute_result"
    }
   ],
   "source": [
    "def category_to_num_intensitas(category):\n",
    "    if category=='Rendah sekali':\n",
    "        return 0.0\n",
    "    elif category=='Rendah':\n",
    "        return 1.0\n",
    "    elif category=='Cukup':\n",
    "        return 2.0\n",
    "    elif category=='Tinggi':\n",
    "        return 3.0\n",
    "    else:\n",
    "        return category\n",
    "\n",
    "data[\"intensitas_air\"]=data[\"intensitas_air\"].apply(category_to_num_intensitas)\n",
    "data"
   ]
  },
  {
   "cell_type": "code",
   "execution_count": 13,
   "metadata": {},
   "outputs": [
    {
     "data": {
      "text/html": [
       "<div>\n",
       "<style scoped>\n",
       "    .dataframe tbody tr th:only-of-type {\n",
       "        vertical-align: middle;\n",
       "    }\n",
       "\n",
       "    .dataframe tbody tr th {\n",
       "        vertical-align: top;\n",
       "    }\n",
       "\n",
       "    .dataframe thead th {\n",
       "        text-align: right;\n",
       "    }\n",
       "</style>\n",
       "<table border=\"1\" class=\"dataframe\">\n",
       "  <thead>\n",
       "    <tr style=\"text-align: right;\">\n",
       "      <th></th>\n",
       "      <th>PH</th>\n",
       "      <th>cahaya</th>\n",
       "      <th>intensitas_air</th>\n",
       "      <th>suhu</th>\n",
       "      <th>PPM</th>\n",
       "      <th>tinggi_air</th>\n",
       "      <th>aksi</th>\n",
       "    </tr>\n",
       "  </thead>\n",
       "  <tbody>\n",
       "    <tr>\n",
       "      <th>0</th>\n",
       "      <td>6.5</td>\n",
       "      <td>1.0</td>\n",
       "      <td>3.0</td>\n",
       "      <td>27.0</td>\n",
       "      <td>188.0</td>\n",
       "      <td>622</td>\n",
       "      <td>3.0</td>\n",
       "    </tr>\n",
       "    <tr>\n",
       "      <th>1</th>\n",
       "      <td>5.7</td>\n",
       "      <td>1.0</td>\n",
       "      <td>3.0</td>\n",
       "      <td>26.9</td>\n",
       "      <td>79.0</td>\n",
       "      <td>557</td>\n",
       "      <td>3.0</td>\n",
       "    </tr>\n",
       "    <tr>\n",
       "      <th>2</th>\n",
       "      <td>6.0</td>\n",
       "      <td>1.0</td>\n",
       "      <td>3.0</td>\n",
       "      <td>27.0</td>\n",
       "      <td>11.0</td>\n",
       "      <td>491</td>\n",
       "      <td>3.0</td>\n",
       "    </tr>\n",
       "    <tr>\n",
       "      <th>3</th>\n",
       "      <td>6.5</td>\n",
       "      <td>1.0</td>\n",
       "      <td>3.0</td>\n",
       "      <td>27.1</td>\n",
       "      <td>345.0</td>\n",
       "      <td>12000</td>\n",
       "      <td>0.0</td>\n",
       "    </tr>\n",
       "    <tr>\n",
       "      <th>4</th>\n",
       "      <td>6.2</td>\n",
       "      <td>NaN</td>\n",
       "      <td>3.0</td>\n",
       "      <td>27.1</td>\n",
       "      <td>602.0</td>\n",
       "      <td>444</td>\n",
       "      <td>0.0</td>\n",
       "    </tr>\n",
       "    <tr>\n",
       "      <th>...</th>\n",
       "      <td>...</td>\n",
       "      <td>...</td>\n",
       "      <td>...</td>\n",
       "      <td>...</td>\n",
       "      <td>...</td>\n",
       "      <td>...</td>\n",
       "      <td>...</td>\n",
       "    </tr>\n",
       "    <tr>\n",
       "      <th>611</th>\n",
       "      <td>4.6</td>\n",
       "      <td>1.0</td>\n",
       "      <td>0.0</td>\n",
       "      <td>25.3</td>\n",
       "      <td>904.0</td>\n",
       "      <td>47</td>\n",
       "      <td>1.0</td>\n",
       "    </tr>\n",
       "    <tr>\n",
       "      <th>612</th>\n",
       "      <td>2.1</td>\n",
       "      <td>1.0</td>\n",
       "      <td>0.0</td>\n",
       "      <td>25.0</td>\n",
       "      <td>388.0</td>\n",
       "      <td>18</td>\n",
       "      <td>3.0</td>\n",
       "    </tr>\n",
       "    <tr>\n",
       "      <th>613</th>\n",
       "      <td>3.2</td>\n",
       "      <td>1.0</td>\n",
       "      <td>0.0</td>\n",
       "      <td>25.3</td>\n",
       "      <td>793.0</td>\n",
       "      <td>19</td>\n",
       "      <td>1.0</td>\n",
       "    </tr>\n",
       "    <tr>\n",
       "      <th>614</th>\n",
       "      <td>1.4</td>\n",
       "      <td>1.0</td>\n",
       "      <td>0.0</td>\n",
       "      <td>25.4</td>\n",
       "      <td>1052.0</td>\n",
       "      <td>3</td>\n",
       "      <td>1.0</td>\n",
       "    </tr>\n",
       "    <tr>\n",
       "      <th>615</th>\n",
       "      <td>5.0</td>\n",
       "      <td>1.0</td>\n",
       "      <td>0.0</td>\n",
       "      <td>25.3</td>\n",
       "      <td>977.0</td>\n",
       "      <td>19</td>\n",
       "      <td>1.0</td>\n",
       "    </tr>\n",
       "  </tbody>\n",
       "</table>\n",
       "<p>616 rows × 7 columns</p>\n",
       "</div>"
      ],
      "text/plain": [
       "      PH  cahaya  intensitas_air  suhu     PPM  tinggi_air  aksi\n",
       "0    6.5     1.0             3.0  27.0   188.0         622   3.0\n",
       "1    5.7     1.0             3.0  26.9    79.0         557   3.0\n",
       "2    6.0     1.0             3.0  27.0    11.0         491   3.0\n",
       "3    6.5     1.0             3.0  27.1   345.0       12000   0.0\n",
       "4    6.2     NaN             3.0  27.1   602.0         444   0.0\n",
       "..   ...     ...             ...   ...     ...         ...   ...\n",
       "611  4.6     1.0             0.0  25.3   904.0          47   1.0\n",
       "612  2.1     1.0             0.0  25.0   388.0          18   3.0\n",
       "613  3.2     1.0             0.0  25.3   793.0          19   1.0\n",
       "614  1.4     1.0             0.0  25.4  1052.0           3   1.0\n",
       "615  5.0     1.0             0.0  25.3   977.0          19   1.0\n",
       "\n",
       "[616 rows x 7 columns]"
      ]
     },
     "execution_count": 13,
     "metadata": {},
     "output_type": "execute_result"
    }
   ],
   "source": [
    "def category_to_num_aksi(category):\n",
    "    if category=='Tidak melakukan apa-apa':\n",
    "        return 0.0\n",
    "    elif category=='Hidupkan Lampu':\n",
    "        return 1.0\n",
    "    elif category=='Hidupkan Pompa nutrisi TDS':\n",
    "        return 2.0\n",
    "    elif category=='Hidupkan Lampu dan Pompa nutrisi TDS':\n",
    "        return 3.0\n",
    "    else:\n",
    "        return category\n",
    "\n",
    "data[\"aksi\"]=data[\"aksi\"].apply(category_to_num_aksi)\n",
    "data"
   ]
  },
  {
   "cell_type": "markdown",
   "metadata": {},
   "source": [
    "## 3. Handle Missing Value"
   ]
  },
  {
   "cell_type": "code",
   "execution_count": 14,
   "metadata": {},
   "outputs": [
    {
     "name": "stdout",
     "output_type": "stream",
     "text": [
      "<class 'pandas.core.frame.DataFrame'>\n",
      "RangeIndex: 616 entries, 0 to 615\n",
      "Data columns (total 7 columns):\n",
      " #   Column          Non-Null Count  Dtype  \n",
      "---  ------          --------------  -----  \n",
      " 0   PH              600 non-null    float64\n",
      " 1   cahaya          590 non-null    float64\n",
      " 2   intensitas_air  616 non-null    float64\n",
      " 3   suhu            589 non-null    float64\n",
      " 4   PPM             611 non-null    float64\n",
      " 5   tinggi_air      616 non-null    int64  \n",
      " 6   aksi            616 non-null    float64\n",
      "dtypes: float64(6), int64(1)\n",
      "memory usage: 33.8 KB\n"
     ]
    }
   ],
   "source": [
    "data.info()"
   ]
  },
  {
   "cell_type": "code",
   "execution_count": 15,
   "metadata": {},
   "outputs": [
    {
     "data": {
      "text/html": [
       "<div>\n",
       "<style scoped>\n",
       "    .dataframe tbody tr th:only-of-type {\n",
       "        vertical-align: middle;\n",
       "    }\n",
       "\n",
       "    .dataframe tbody tr th {\n",
       "        vertical-align: top;\n",
       "    }\n",
       "\n",
       "    .dataframe thead th {\n",
       "        text-align: right;\n",
       "    }\n",
       "</style>\n",
       "<table border=\"1\" class=\"dataframe\">\n",
       "  <thead>\n",
       "    <tr style=\"text-align: right;\">\n",
       "      <th></th>\n",
       "      <th>total_missing</th>\n",
       "      <th>perc_missing</th>\n",
       "    </tr>\n",
       "  </thead>\n",
       "  <tbody>\n",
       "    <tr>\n",
       "      <th>PH</th>\n",
       "      <td>16</td>\n",
       "      <td>2.597403</td>\n",
       "    </tr>\n",
       "    <tr>\n",
       "      <th>cahaya</th>\n",
       "      <td>26</td>\n",
       "      <td>4.220779</td>\n",
       "    </tr>\n",
       "    <tr>\n",
       "      <th>intensitas_air</th>\n",
       "      <td>0</td>\n",
       "      <td>0.000000</td>\n",
       "    </tr>\n",
       "    <tr>\n",
       "      <th>suhu</th>\n",
       "      <td>27</td>\n",
       "      <td>4.383117</td>\n",
       "    </tr>\n",
       "    <tr>\n",
       "      <th>PPM</th>\n",
       "      <td>5</td>\n",
       "      <td>0.811688</td>\n",
       "    </tr>\n",
       "    <tr>\n",
       "      <th>tinggi_air</th>\n",
       "      <td>0</td>\n",
       "      <td>0.000000</td>\n",
       "    </tr>\n",
       "    <tr>\n",
       "      <th>aksi</th>\n",
       "      <td>0</td>\n",
       "      <td>0.000000</td>\n",
       "    </tr>\n",
       "  </tbody>\n",
       "</table>\n",
       "</div>"
      ],
      "text/plain": [
       "                total_missing  perc_missing\n",
       "PH                         16      2.597403\n",
       "cahaya                     26      4.220779\n",
       "intensitas_air              0      0.000000\n",
       "suhu                       27      4.383117\n",
       "PPM                         5      0.811688\n",
       "tinggi_air                  0      0.000000\n",
       "aksi                        0      0.000000"
      ]
     },
     "execution_count": 15,
     "metadata": {},
     "output_type": "execute_result"
    }
   ],
   "source": [
    "missing_data = pd.DataFrame({'total_missing': data.isnull().sum(), 'perc_missing': (data.isnull().sum()/616)*100})\n",
    "missing_data"
   ]
  },
  {
   "cell_type": "code",
   "execution_count": 16,
   "metadata": {},
   "outputs": [
    {
     "data": {
      "text/plain": [
       "PH                0\n",
       "cahaya            0\n",
       "intensitas_air    0\n",
       "suhu              0\n",
       "PPM               0\n",
       "tinggi_air        0\n",
       "aksi              0\n",
       "dtype: int64"
      ]
     },
     "execution_count": 16,
     "metadata": {},
     "output_type": "execute_result"
    }
   ],
   "source": [
    "columns_missing = ['PH', 'cahaya', 'suhu', 'PPM']\n",
    "\n",
    "for col in columns_missing:\n",
    "    data[col].replace(np.nan, data[col].mean(), inplace=True)\n",
    "    \n",
    "data.isnull().sum()"
   ]
  },
  {
   "cell_type": "markdown",
   "metadata": {},
   "source": [
    "## 4. Detect outliers dan handling (bisa dihapus atau diganti nilainya dengan mean/modus/median)"
   ]
  },
  {
   "cell_type": "code",
   "execution_count": 17,
   "metadata": {},
   "outputs": [
    {
     "data": {
      "image/png": "[encoded data removed]",
      "text/plain": [
       "<Figure size 1368x648 with 1 Axes>"
      ]
     },
     "metadata": {
      "needs_background": "light"
     },
     "output_type": "display_data"
    }
   ],
   "source": [
    "num_cols = ['PH', 'cahaya', 'intensitas_air', 'suhu']\n",
    "plt.figure(figsize=(19,9))\n",
    "data[num_cols].boxplot()\n",
    "plt.title(\"Numerical variables in Modcloth dataset\", fontsize=20)\n",
    "plt.show()"
   ]
  },
  {
   "cell_type": "code",
   "execution_count": 18,
   "metadata": {},
   "outputs": [
    {
     "data": {
      "image/png": "[encoded data removed]",
      "text/plain": [
       "<Figure size 1368x648 with 1 Axes>"
      ]
     },
     "metadata": {
      "needs_background": "light"
     },
     "output_type": "display_data"
    }
   ],
   "source": [
    "num_cols = ['PPM', 'tinggi_air']\n",
    "plt.figure(figsize=(19,9))\n",
    "data[num_cols].boxplot()\n",
    "plt.title(\"Numerical variables in Modcloth dataset\", fontsize=20)\n",
    "plt.show()"
   ]
  },
  {
   "cell_type": "code",
   "execution_count": 19,
   "metadata": {},
   "outputs": [
    {
     "name": "stdout",
     "output_type": "stream",
     "text": [
      "tinggi_air [12000, 9000]\n",
      "suhu [-300.0, -100.0]\n"
     ]
    }
   ],
   "source": [
    "outliers=[]\n",
    "def detect_outlier(data_1):\n",
    "    \n",
    "    threshold=3\n",
    "    mean_1 = np.mean(data_1)\n",
    "    std_1 =np.std(data_1)\n",
    "    \n",
    "    \n",
    "    for y in data_1:\n",
    "        z_score= (y - mean_1)/std_1 \n",
    "        if np.abs(z_score) > threshold:\n",
    "            outliers.append(y)\n",
    "    return outliers\n",
    "\n",
    "columns_outlier = ['tinggi_air', 'suhu']\n",
    "for col in columns_outlier:\n",
    "    outliers=[]\n",
    "    outlier_datapoints = detect_outlier(data[col])\n",
    "    print(col, outlier_datapoints)"
   ]
  },
  {
   "cell_type": "code",
   "execution_count": 20,
   "metadata": {},
   "outputs": [],
   "source": [
    "data.drop(data.loc[(data.tinggi_air == 12000) | (data.tinggi_air==9000)].index, inplace=True)"
   ]
  },
  {
   "cell_type": "code",
   "execution_count": 21,
   "metadata": {},
   "outputs": [],
   "source": [
    "data.drop(data.loc[(data.suhu == -300) | (data.suhu==-100)].index, inplace=True)"
   ]
  },
  {
   "cell_type": "code",
   "execution_count": 22,
   "metadata": {},
   "outputs": [
    {
     "data": {
      "image/png": "[encoded data removed]",
      "text/plain": [
       "<Figure size 1368x648 with 1 Axes>"
      ]
     },
     "metadata": {
      "needs_background": "light"
     },
     "output_type": "display_data"
    }
   ],
   "source": [
    "num_cols = ['suhu', 'tinggi_air']\n",
    "plt.figure(figsize=(19,9))\n",
    "data[num_cols].boxplot()\n",
    "plt.title(\"Box plot Suhu dan Tinggi Air\", fontsize=20)\n",
    "plt.show()"
   ]
  },
  {
   "cell_type": "markdown",
   "metadata": {},
   "source": [
    "## 5. Pisahkan data feature dengan label"
   ]
  },
  {
   "cell_type": "code",
   "execution_count": 23,
   "metadata": {},
   "outputs": [],
   "source": [
    "# Memisahkan antara fitur dan label\n",
    "\n",
    "# Fitur\n",
    "# iloc[rows,columns] (Slicing pada dataframe)\n",
    "# Mengambil semua data dalam barisan.\n",
    "# Mengambil kolom index ke-0 sampai ke-5\n",
    "X = data.iloc[:,:6].values\n",
    "\n",
    "# Label\n",
    "# iloc[rows,columns] (Slicing pada dataframe)\n",
    "# Mengambil semua data dalam barisan.\n",
    "# Hanya Mengambil kolom index ke-6\n",
    "Y = data.iloc[:,6].values"
   ]
  },
  {
   "cell_type": "code",
   "execution_count": 24,
   "metadata": {},
   "outputs": [
    {
     "name": "stdout",
     "output_type": "stream",
     "text": [
      "[[6.500e+00 1.000e+00 3.000e+00 2.700e+01 1.880e+02 6.220e+02]\n",
      " [5.700e+00 1.000e+00 3.000e+00 2.690e+01 7.900e+01 5.570e+02]\n",
      " [6.000e+00 1.000e+00 3.000e+00 2.700e+01 1.100e+01 4.910e+02]\n",
      " ...\n",
      " [3.200e+00 1.000e+00 0.000e+00 2.530e+01 7.930e+02 1.900e+01]\n",
      " [1.400e+00 1.000e+00 0.000e+00 2.540e+01 1.052e+03 3.000e+00]\n",
      " [5.000e+00 1.000e+00 0.000e+00 2.530e+01 9.770e+02 1.900e+01]] [3. 3. 3. 0. 1. 1. 1. 0. 1. 1. 1. 1. 1. 1. 1. 1. 3. 3. 3. 3. 1. 1. 1. 1.\n",
      " 1. 1. 1. 1. 1. 1. 1. 1. 0. 3. 3. 3. 1. 1. 0. 0. 0. 0. 0. 0. 0. 0. 0. 0.\n",
      " 0. 0. 0. 0. 0. 0. 0. 0. 0. 0. 0. 0. 0. 0. 0. 0. 0. 0. 0. 0. 0. 0. 0. 0.\n",
      " 0. 0. 0. 0. 0. 0. 0. 0. 0. 0. 0. 0. 0. 0. 0. 0. 0. 0. 0. 0. 0. 0. 0. 0.\n",
      " 0. 0. 0. 0. 0. 0. 0. 0. 0. 0. 0. 0. 0. 0. 0. 0. 0. 0. 0. 0. 0. 0. 0. 0.\n",
      " 0. 0. 0. 0. 0. 0. 0. 0. 0. 0. 0. 0. 0. 0. 0. 0. 0. 0. 0. 0. 0. 0. 0. 0.\n",
      " 0. 0. 0. 0. 0. 0. 0. 0. 0. 0. 0. 0. 0. 0. 0. 0. 0. 0. 0. 0. 0. 0. 0. 0.\n",
      " 0. 0. 0. 0. 0. 0. 0. 0. 0. 0. 0. 0. 0. 0. 0. 0. 0. 0. 0. 0. 0. 0. 0. 0.\n",
      " 0. 0. 0. 0. 0. 0. 0. 0. 0. 0. 0. 0. 0. 0. 0. 0. 0. 0. 0. 0. 0. 0. 0. 0.\n",
      " 0. 0. 0. 0. 0. 0. 0. 0. 0. 0. 0. 0. 0. 0. 0. 0. 0. 0. 0. 0. 0. 0. 0. 0.\n",
      " 0. 0. 0. 0. 0. 0. 0. 0. 0. 0. 0. 0. 0. 0. 0. 0. 0. 0. 3. 3. 3. 3. 3. 3.\n",
      " 3. 3. 3. 1. 1. 1. 1. 1. 1. 1. 1. 1. 1. 1. 0. 1. 1. 1. 1. 1. 0. 0. 1. 1.\n",
      " 0. 0. 1. 1. 3. 0. 3. 3. 3. 0. 3. 0. 0. 0. 1. 1. 0. 0. 0. 0. 1. 1. 0. 0.\n",
      " 1. 0. 1. 0. 0. 0. 0. 0. 1. 1. 1. 0. 0. 0. 0. 3. 0. 3. 0. 3. 3. 0. 0. 1.\n",
      " 0. 1. 1. 0. 0. 1. 0. 1. 0. 0. 1. 0. 0. 0. 1. 0. 0. 0. 2. 2. 2. 2. 2. 2.\n",
      " 2. 2. 2. 2. 2. 2. 0. 0. 0. 0. 0. 0. 0. 0. 0. 0. 0. 0. 0. 0. 0. 0. 0. 0.\n",
      " 0. 0. 0. 0. 0. 0. 0. 0. 0. 0. 0. 0. 0. 0. 0. 0. 0. 0. 0. 0. 0. 0. 0. 0.\n",
      " 0. 0. 0. 0. 0. 0. 0. 0. 0. 0. 0. 0. 0. 0. 0. 0. 0. 0. 0. 0. 0. 0. 0. 0.\n",
      " 0. 0. 0. 0. 0. 0. 0. 0. 0. 0. 0. 0. 0. 0. 0. 0. 0. 0. 0. 0. 0. 0. 0. 0.\n",
      " 0. 0. 0. 0. 0. 0. 0. 0. 0. 0. 0. 0. 0. 0. 0. 0. 0. 0. 0. 0. 0. 0. 0. 0.\n",
      " 0. 0. 0. 0. 0. 0. 0. 0. 0. 0. 0. 0. 0. 0. 0. 0. 0. 0. 0. 0. 0. 0. 0. 0.\n",
      " 0. 0. 0. 0. 0. 0. 0. 0. 0. 0. 0. 0. 0. 0. 0. 0. 0. 0. 0. 0. 0. 0. 0. 0.\n",
      " 0. 0. 0. 0. 0. 0. 0. 0. 0. 0. 0. 0. 0. 0. 0. 0. 0. 0. 0. 0. 0. 0. 0. 0.\n",
      " 0. 0. 0. 0. 0. 0. 0. 0. 0. 0. 0. 0. 0. 0. 0. 1. 1. 1. 0. 0. 1. 3. 1. 0.\n",
      " 1. 1. 1. 3. 1. 1. 3. 1. 1. 1. 3. 1. 1. 3. 1. 3. 1. 1. 1. 1. 3. 1. 1. 3.\n",
      " 1. 3. 1. 1. 1. 3. 1. 1. 3. 1. 1. 1.]\n"
     ]
    }
   ],
   "source": [
    "print(X, Y)"
   ]
  },
  {
   "cell_type": "markdown",
   "metadata": {},
   "source": [
    "## 6. Check Imbalanced Dataset, jika imbalanced, gunakan smote"
   ]
  },
  {
   "cell_type": "code",
   "execution_count": 25,
   "metadata": {},
   "outputs": [],
   "source": [
    "#pip install imbalanced-learn"
   ]
  },
  {
   "cell_type": "code",
   "execution_count": 26,
   "metadata": {},
   "outputs": [
    {
     "data": {
      "text/plain": [
       "0.0    469\n",
       "1.0     92\n",
       "3.0     39\n",
       "2.0     12\n",
       "Name: aksi, dtype: int64"
      ]
     },
     "execution_count": 26,
     "metadata": {},
     "output_type": "execute_result"
    }
   ],
   "source": [
    "data.aksi.value_counts()"
   ]
  },
  {
   "cell_type": "code",
   "execution_count": 27,
   "metadata": {},
   "outputs": [
    {
     "name": "stdout",
     "output_type": "stream",
     "text": [
      "Counter({0.0: 469, 1.0: 92, 3.0: 39, 2.0: 12})\n"
     ]
    }
   ],
   "source": [
    "counter = Counter(Y)\n",
    "print(counter)"
   ]
  },
  {
   "cell_type": "code",
   "execution_count": 28,
   "metadata": {},
   "outputs": [],
   "source": [
    "from imblearn.over_sampling import SMOTE\n",
    "oversample = SMOTE(k_neighbors=5)\n",
    "X_smote, Y_smote = oversample.fit_resample(X, Y)"
   ]
  },
  {
   "cell_type": "code",
   "execution_count": 29,
   "metadata": {},
   "outputs": [
    {
     "name": "stdout",
     "output_type": "stream",
     "text": [
      "Counter({3.0: 469, 0.0: 469, 1.0: 469, 2.0: 469})\n"
     ]
    }
   ],
   "source": [
    "counter = Counter(Y_smote)\n",
    "print(counter)"
   ]
  },
  {
   "cell_type": "markdown",
   "metadata": {},
   "source": [
    "## 7. Visualisasikan Tiap feature dengan label"
   ]
  },
  {
   "cell_type": "markdown",
   "metadata": {},
   "source": [
    "## 8. Lakukan Normalization menggunakan MinMaxScaler atau Standardization menggunakan StandarScaler"
   ]
  },
  {
   "cell_type": "code",
   "execution_count": 30,
   "metadata": {},
   "outputs": [],
   "source": [
    "# from sklearn.preprocessing import StandardScaler\n",
    "# scaler = StandardScaler()\n",
    "# # transform data\n",
    "# scaled = scaler.fit_transform(X)\n",
    "# print(scaled)"
   ]
  },
  {
   "cell_type": "code",
   "execution_count": 31,
   "metadata": {},
   "outputs": [
    {
     "name": "stdout",
     "output_type": "stream",
     "text": [
      "[[0.46428571 1.         1.         0.12820513 0.08705773 0.98887122]\n",
      " [0.40714286 1.         1.         0.12179487 0.03631285 0.88553259]\n",
      " [0.42857143 1.         1.         0.12820513 0.00465549 0.78060413]\n",
      " ...\n",
      " [0.39516374 1.         0.22569228 0.10236391 0.11720241 0.37094264]\n",
      " [0.36258525 1.         0.12295273 0.12820513 0.04182308 0.70387665]\n",
      " [0.29135584 1.         0.33333333 0.10184703 0.10991227 0.21581727]]\n"
     ]
    }
   ],
   "source": [
    "from sklearn.preprocessing import MinMaxScaler\n",
    "scaler =  MinMaxScaler()\n",
    "# transform data\n",
    "scaled_smote = scaler.fit_transform(X_smote)\n",
    "print(scaled_smote)"
   ]
  },
  {
   "cell_type": "code",
   "execution_count": 32,
   "metadata": {},
   "outputs": [
    {
     "name": "stdout",
     "output_type": "stream",
     "text": [
      "[[0.46428571 1.         1.         0.12820513 0.08705773 0.98887122]\n",
      " [0.40714286 1.         1.         0.12179487 0.03631285 0.88553259]\n",
      " [0.42857143 1.         1.         0.12820513 0.00465549 0.78060413]\n",
      " ...\n",
      " [0.22857143 1.         0.         0.01923077 0.36871508 0.03020668]\n",
      " [0.1        1.         0.         0.02564103 0.48929236 0.00476948]\n",
      " [0.35714286 1.         0.         0.01923077 0.45437616 0.03020668]]\n"
     ]
    }
   ],
   "source": [
    "scaler =  MinMaxScaler()\n",
    "# transform data\n",
    "scaled = scaler.fit_transform(X)\n",
    "print(scaled)"
   ]
  },
  {
   "cell_type": "markdown",
   "metadata": {},
   "source": [
    "## 9. Buat model ANN (SMOTE)"
   ]
  },
  {
   "cell_type": "code",
   "execution_count": 33,
   "metadata": {},
   "outputs": [],
   "source": [
    "model = Sequential()"
   ]
  },
  {
   "cell_type": "code",
   "execution_count": 34,
   "metadata": {},
   "outputs": [],
   "source": [
    "model.add(Dense(16, input_shape=(6,), activation='relu'))\n",
    "model.add(Dense(32, activation='relu'))\n",
    "model.add(Dense(4, activation='sigmoid'))"
   ]
  },
  {
   "cell_type": "code",
   "execution_count": 35,
   "metadata": {},
   "outputs": [],
   "source": [
    "model.compile(optimizer = 'adam', loss = 'sparse_categorical_crossentropy', metrics = ['accuracy'])"
   ]
  },
  {
   "cell_type": "code",
   "execution_count": 36,
   "metadata": {},
   "outputs": [],
   "source": [
    "from sklearn.model_selection import train_test_split\n",
    "\n",
    "x_train, x_test, y_train, y_test = train_test_split(scaled_smote,Y_smote, test_size = 0.2, random_state = 42)"
   ]
  },
  {
   "cell_type": "code",
   "execution_count": 37,
   "metadata": {},
   "outputs": [
    {
     "name": "stdout",
     "output_type": "stream",
     "text": [
      "Epoch 1/100\n",
      "33/33 [==============================] - 2s 16ms/step - loss: 1.4228 - accuracy: 0.1015 - val_loss: 1.3146 - val_accuracy: 0.4289\n",
      "Epoch 2/100\n",
      "33/33 [==============================] - 0s 5ms/step - loss: 1.2853 - accuracy: 0.5554 - val_loss: 1.2003 - val_accuracy: 0.6556\n",
      "Epoch 3/100\n",
      "33/33 [==============================] - 0s 5ms/step - loss: 1.1665 - accuracy: 0.6452 - val_loss: 1.0525 - val_accuracy: 0.6667\n",
      "Epoch 4/100\n",
      "33/33 [==============================] - 0s 8ms/step - loss: 1.0087 - accuracy: 0.6782 - val_loss: 0.8753 - val_accuracy: 0.7578\n",
      "Epoch 5/100\n",
      "33/33 [==============================] - 0s 5ms/step - loss: 0.8192 - accuracy: 0.7742 - val_loss: 0.7169 - val_accuracy: 0.8089\n",
      "Epoch 6/100\n",
      "33/33 [==============================] - 0s 5ms/step - loss: 0.6633 - accuracy: 0.8337 - val_loss: 0.5859 - val_accuracy: 0.8644\n",
      "Epoch 7/100\n",
      "33/33 [==============================] - 0s 5ms/step - loss: 0.5695 - accuracy: 0.8448 - val_loss: 0.4899 - val_accuracy: 0.8911\n",
      "Epoch 8/100\n",
      "33/33 [==============================] - 0s 5ms/step - loss: 0.4749 - accuracy: 0.8704 - val_loss: 0.4200 - val_accuracy: 0.9000\n",
      "Epoch 9/100\n",
      "33/33 [==============================] - 0s 5ms/step - loss: 0.3875 - accuracy: 0.8934 - val_loss: 0.3750 - val_accuracy: 0.9133\n",
      "Epoch 10/100\n",
      "33/33 [==============================] - 0s 5ms/step - loss: 0.3581 - accuracy: 0.8949 - val_loss: 0.3387 - val_accuracy: 0.9156\n",
      "Epoch 11/100\n",
      "33/33 [==============================] - 0s 6ms/step - loss: 0.3348 - accuracy: 0.8963 - val_loss: 0.3117 - val_accuracy: 0.9111\n",
      "Epoch 12/100\n",
      "33/33 [==============================] - 0s 5ms/step - loss: 0.2853 - accuracy: 0.9087 - val_loss: 0.2917 - val_accuracy: 0.9178\n",
      "Epoch 13/100\n",
      "33/33 [==============================] - 0s 5ms/step - loss: 0.2784 - accuracy: 0.9092 - val_loss: 0.2764 - val_accuracy: 0.9356\n",
      "Epoch 14/100\n",
      "33/33 [==============================] - 0s 5ms/step - loss: 0.2716 - accuracy: 0.9196 - val_loss: 0.2621 - val_accuracy: 0.9422\n",
      "Epoch 15/100\n",
      "33/33 [==============================] - 0s 5ms/step - loss: 0.2484 - accuracy: 0.9134 - val_loss: 0.2498 - val_accuracy: 0.9333\n",
      "Epoch 16/100\n",
      "33/33 [==============================] - 0s 6ms/step - loss: 0.2231 - accuracy: 0.9314 - val_loss: 0.2435 - val_accuracy: 0.9533\n",
      "Epoch 17/100\n",
      "33/33 [==============================] - 0s 6ms/step - loss: 0.2345 - accuracy: 0.9162 - val_loss: 0.2309 - val_accuracy: 0.9489\n",
      "Epoch 18/100\n",
      "33/33 [==============================] - 0s 5ms/step - loss: 0.2279 - accuracy: 0.9302 - val_loss: 0.2230 - val_accuracy: 0.9489\n",
      "Epoch 19/100\n",
      "33/33 [==============================] - 0s 5ms/step - loss: 0.2097 - accuracy: 0.9386 - val_loss: 0.2175 - val_accuracy: 0.9489\n",
      "Epoch 20/100\n",
      "33/33 [==============================] - 0s 6ms/step - loss: 0.2129 - accuracy: 0.9301 - val_loss: 0.2079 - val_accuracy: 0.9400\n",
      "Epoch 21/100\n",
      "33/33 [==============================] - 0s 6ms/step - loss: 0.1976 - accuracy: 0.9387 - val_loss: 0.2111 - val_accuracy: 0.9422\n",
      "Epoch 22/100\n",
      "33/33 [==============================] - 0s 6ms/step - loss: 0.1862 - accuracy: 0.9333 - val_loss: 0.1965 - val_accuracy: 0.9467\n",
      "Epoch 23/100\n",
      "33/33 [==============================] - 0s 5ms/step - loss: 0.1847 - accuracy: 0.9431 - val_loss: 0.1927 - val_accuracy: 0.9511\n",
      "Epoch 24/100\n",
      "33/33 [==============================] - 0s 6ms/step - loss: 0.1846 - accuracy: 0.9400 - val_loss: 0.1902 - val_accuracy: 0.9467\n",
      "Epoch 25/100\n",
      "33/33 [==============================] - 0s 5ms/step - loss: 0.1846 - accuracy: 0.9404 - val_loss: 0.1831 - val_accuracy: 0.9489\n",
      "Epoch 26/100\n",
      "33/33 [==============================] - 0s 6ms/step - loss: 0.1686 - accuracy: 0.9350 - val_loss: 0.1794 - val_accuracy: 0.9556\n",
      "Epoch 27/100\n",
      "33/33 [==============================] - 0s 6ms/step - loss: 0.1730 - accuracy: 0.9378 - val_loss: 0.1810 - val_accuracy: 0.9489\n",
      "Epoch 28/100\n",
      "33/33 [==============================] - 0s 6ms/step - loss: 0.1678 - accuracy: 0.9483 - val_loss: 0.1699 - val_accuracy: 0.9533\n",
      "Epoch 29/100\n",
      "33/33 [==============================] - 0s 6ms/step - loss: 0.1561 - accuracy: 0.9572 - val_loss: 0.1722 - val_accuracy: 0.9467\n",
      "Epoch 30/100\n",
      "33/33 [==============================] - 0s 5ms/step - loss: 0.1560 - accuracy: 0.9487 - val_loss: 0.1644 - val_accuracy: 0.9511\n",
      "Epoch 31/100\n",
      "33/33 [==============================] - 0s 6ms/step - loss: 0.1485 - accuracy: 0.9560 - val_loss: 0.1628 - val_accuracy: 0.9556\n",
      "Epoch 32/100\n",
      "33/33 [==============================] - 0s 6ms/step - loss: 0.1648 - accuracy: 0.9331 - val_loss: 0.1608 - val_accuracy: 0.9489\n",
      "Epoch 33/100\n",
      "33/33 [==============================] - 0s 6ms/step - loss: 0.1532 - accuracy: 0.9468 - val_loss: 0.1560 - val_accuracy: 0.9556\n",
      "Epoch 34/100\n",
      "33/33 [==============================] - 0s 6ms/step - loss: 0.1487 - accuracy: 0.9458 - val_loss: 0.1541 - val_accuracy: 0.9533\n",
      "Epoch 35/100\n",
      "33/33 [==============================] - 0s 6ms/step - loss: 0.1674 - accuracy: 0.9471 - val_loss: 0.1526 - val_accuracy: 0.9556\n",
      "Epoch 36/100\n",
      "33/33 [==============================] - 0s 6ms/step - loss: 0.1491 - accuracy: 0.9559 - val_loss: 0.1533 - val_accuracy: 0.9467\n",
      "Epoch 37/100\n",
      "33/33 [==============================] - 0s 5ms/step - loss: 0.1312 - accuracy: 0.9607 - val_loss: 0.1608 - val_accuracy: 0.9511\n",
      "Epoch 38/100\n",
      "33/33 [==============================] - 0s 6ms/step - loss: 0.1467 - accuracy: 0.9560 - val_loss: 0.1475 - val_accuracy: 0.9489\n",
      "Epoch 39/100\n",
      "33/33 [==============================] - 0s 5ms/step - loss: 0.1277 - accuracy: 0.9536 - val_loss: 0.1423 - val_accuracy: 0.9556\n",
      "Epoch 40/100\n",
      "33/33 [==============================] - 0s 5ms/step - loss: 0.1494 - accuracy: 0.9592 - val_loss: 0.1432 - val_accuracy: 0.9578\n",
      "Epoch 41/100\n",
      "33/33 [==============================] - 0s 8ms/step - loss: 0.1489 - accuracy: 0.9475 - val_loss: 0.1388 - val_accuracy: 0.9600\n",
      "Epoch 42/100\n",
      "33/33 [==============================] - 0s 6ms/step - loss: 0.1151 - accuracy: 0.9609 - val_loss: 0.1373 - val_accuracy: 0.9622\n",
      "Epoch 43/100\n",
      "33/33 [==============================] - 0s 5ms/step - loss: 0.1540 - accuracy: 0.9403 - val_loss: 0.1400 - val_accuracy: 0.9533\n",
      "Epoch 44/100\n",
      "33/33 [==============================] - 0s 6ms/step - loss: 0.1173 - accuracy: 0.9600 - val_loss: 0.1350 - val_accuracy: 0.9622\n",
      "Epoch 45/100\n",
      "33/33 [==============================] - 0s 6ms/step - loss: 0.1329 - accuracy: 0.9457 - val_loss: 0.1339 - val_accuracy: 0.9600\n",
      "Epoch 46/100\n",
      "33/33 [==============================] - 0s 6ms/step - loss: 0.1130 - accuracy: 0.9637 - val_loss: 0.1318 - val_accuracy: 0.9511\n",
      "Epoch 47/100\n",
      "33/33 [==============================] - 0s 6ms/step - loss: 0.1093 - accuracy: 0.9676 - val_loss: 0.1303 - val_accuracy: 0.9600\n",
      "Epoch 48/100\n",
      "33/33 [==============================] - 0s 6ms/step - loss: 0.1284 - accuracy: 0.9522 - val_loss: 0.1291 - val_accuracy: 0.9533\n",
      "Epoch 49/100\n",
      "33/33 [==============================] - 0s 6ms/step - loss: 0.1141 - accuracy: 0.9668 - val_loss: 0.1316 - val_accuracy: 0.9511\n",
      "Epoch 50/100\n",
      "33/33 [==============================] - 0s 5ms/step - loss: 0.1242 - accuracy: 0.9600 - val_loss: 0.1267 - val_accuracy: 0.9622\n",
      "Epoch 51/100\n",
      "33/33 [==============================] - 0s 5ms/step - loss: 0.1281 - accuracy: 0.9609 - val_loss: 0.1317 - val_accuracy: 0.9533\n",
      "Epoch 52/100\n",
      "33/33 [==============================] - 0s 5ms/step - loss: 0.1049 - accuracy: 0.9598 - val_loss: 0.1273 - val_accuracy: 0.9600\n",
      "Epoch 53/100\n",
      "33/33 [==============================] - 0s 5ms/step - loss: 0.1125 - accuracy: 0.9604 - val_loss: 0.1340 - val_accuracy: 0.9578\n",
      "Epoch 54/100\n",
      "33/33 [==============================] - 0s 6ms/step - loss: 0.1328 - accuracy: 0.9554 - val_loss: 0.1271 - val_accuracy: 0.9533\n",
      "Epoch 55/100\n",
      "33/33 [==============================] - 0s 6ms/step - loss: 0.1275 - accuracy: 0.9491 - val_loss: 0.1283 - val_accuracy: 0.9533\n",
      "Epoch 56/100\n",
      "33/33 [==============================] - 0s 5ms/step - loss: 0.1195 - accuracy: 0.9524 - val_loss: 0.1220 - val_accuracy: 0.9622\n",
      "Epoch 57/100\n",
      "33/33 [==============================] - 0s 5ms/step - loss: 0.1074 - accuracy: 0.9715 - val_loss: 0.1211 - val_accuracy: 0.9644\n",
      "Epoch 58/100\n",
      "33/33 [==============================] - 0s 5ms/step - loss: 0.1093 - accuracy: 0.9612 - val_loss: 0.1203 - val_accuracy: 0.9622\n",
      "Epoch 59/100\n",
      "33/33 [==============================] - 0s 5ms/step - loss: 0.1065 - accuracy: 0.9639 - val_loss: 0.1211 - val_accuracy: 0.9644\n",
      "Epoch 60/100\n",
      "33/33 [==============================] - 0s 5ms/step - loss: 0.1050 - accuracy: 0.9704 - val_loss: 0.1280 - val_accuracy: 0.9578\n",
      "Epoch 61/100\n",
      "33/33 [==============================] - 0s 6ms/step - loss: 0.1121 - accuracy: 0.9573 - val_loss: 0.1227 - val_accuracy: 0.9533\n",
      "Epoch 62/100\n",
      "33/33 [==============================] - 0s 6ms/step - loss: 0.1108 - accuracy: 0.9643 - val_loss: 0.1194 - val_accuracy: 0.9644\n",
      "Epoch 63/100\n",
      "33/33 [==============================] - 0s 5ms/step - loss: 0.1183 - accuracy: 0.9625 - val_loss: 0.1168 - val_accuracy: 0.9644\n",
      "Epoch 64/100\n",
      "33/33 [==============================] - 0s 5ms/step - loss: 0.1107 - accuracy: 0.9630 - val_loss: 0.1181 - val_accuracy: 0.9578\n",
      "Epoch 65/100\n",
      "33/33 [==============================] - 0s 5ms/step - loss: 0.1062 - accuracy: 0.9668 - val_loss: 0.1168 - val_accuracy: 0.9644\n",
      "Epoch 66/100\n",
      "33/33 [==============================] - 0s 5ms/step - loss: 0.1304 - accuracy: 0.9574 - val_loss: 0.1154 - val_accuracy: 0.9667\n",
      "Epoch 67/100\n",
      "33/33 [==============================] - 0s 6ms/step - loss: 0.1319 - accuracy: 0.9576 - val_loss: 0.1139 - val_accuracy: 0.9644\n",
      "Epoch 68/100\n",
      "33/33 [==============================] - 0s 5ms/step - loss: 0.1035 - accuracy: 0.9669 - val_loss: 0.1170 - val_accuracy: 0.9556\n",
      "Epoch 69/100\n",
      "33/33 [==============================] - 0s 5ms/step - loss: 0.1160 - accuracy: 0.9603 - val_loss: 0.1133 - val_accuracy: 0.9667\n",
      "Epoch 70/100\n",
      "33/33 [==============================] - 0s 6ms/step - loss: 0.1023 - accuracy: 0.9573 - val_loss: 0.1161 - val_accuracy: 0.9644\n",
      "Epoch 71/100\n",
      "33/33 [==============================] - 0s 5ms/step - loss: 0.1282 - accuracy: 0.9562 - val_loss: 0.1131 - val_accuracy: 0.9644\n",
      "Epoch 72/100\n",
      "33/33 [==============================] - 0s 5ms/step - loss: 0.0953 - accuracy: 0.9640 - val_loss: 0.1110 - val_accuracy: 0.9667\n",
      "Epoch 73/100\n",
      "33/33 [==============================] - 0s 5ms/step - loss: 0.1149 - accuracy: 0.9632 - val_loss: 0.1157 - val_accuracy: 0.9644\n",
      "Epoch 74/100\n",
      "33/33 [==============================] - 0s 6ms/step - loss: 0.1018 - accuracy: 0.9673 - val_loss: 0.1126 - val_accuracy: 0.9600\n",
      "Epoch 75/100\n",
      "33/33 [==============================] - 0s 5ms/step - loss: 0.1224 - accuracy: 0.9547 - val_loss: 0.1162 - val_accuracy: 0.9556\n",
      "Epoch 76/100\n",
      "33/33 [==============================] - 0s 8ms/step - loss: 0.1075 - accuracy: 0.9545 - val_loss: 0.1097 - val_accuracy: 0.9689\n",
      "Epoch 77/100\n",
      "33/33 [==============================] - 0s 5ms/step - loss: 0.1013 - accuracy: 0.9585 - val_loss: 0.1091 - val_accuracy: 0.9556\n",
      "Epoch 78/100\n",
      "33/33 [==============================] - 0s 5ms/step - loss: 0.1218 - accuracy: 0.9580 - val_loss: 0.1086 - val_accuracy: 0.9689\n",
      "Epoch 79/100\n",
      "33/33 [==============================] - 0s 6ms/step - loss: 0.1313 - accuracy: 0.9530 - val_loss: 0.1106 - val_accuracy: 0.9667\n",
      "Epoch 80/100\n",
      "33/33 [==============================] - 0s 5ms/step - loss: 0.1077 - accuracy: 0.9662 - val_loss: 0.1087 - val_accuracy: 0.9667\n",
      "Epoch 81/100\n",
      "33/33 [==============================] - 0s 6ms/step - loss: 0.1182 - accuracy: 0.9558 - val_loss: 0.1065 - val_accuracy: 0.9689\n",
      "Epoch 82/100\n",
      "33/33 [==============================] - 0s 5ms/step - loss: 0.1121 - accuracy: 0.9636 - val_loss: 0.1084 - val_accuracy: 0.9667\n",
      "Epoch 83/100\n",
      "33/33 [==============================] - 0s 5ms/step - loss: 0.1067 - accuracy: 0.9696 - val_loss: 0.1060 - val_accuracy: 0.9667\n",
      "Epoch 84/100\n",
      "33/33 [==============================] - 0s 6ms/step - loss: 0.1116 - accuracy: 0.9615 - val_loss: 0.1058 - val_accuracy: 0.9600\n",
      "Epoch 85/100\n",
      "33/33 [==============================] - 0s 6ms/step - loss: 0.1111 - accuracy: 0.9587 - val_loss: 0.1054 - val_accuracy: 0.9689\n",
      "Epoch 86/100\n",
      "33/33 [==============================] - 0s 5ms/step - loss: 0.0890 - accuracy: 0.9686 - val_loss: 0.1049 - val_accuracy: 0.9622\n",
      "Epoch 87/100\n",
      "33/33 [==============================] - 0s 5ms/step - loss: 0.0935 - accuracy: 0.9724 - val_loss: 0.1052 - val_accuracy: 0.9600\n",
      "Epoch 88/100\n",
      "33/33 [==============================] - 0s 5ms/step - loss: 0.1076 - accuracy: 0.9570 - val_loss: 0.1064 - val_accuracy: 0.9689\n",
      "Epoch 89/100\n",
      "33/33 [==============================] - 0s 6ms/step - loss: 0.1068 - accuracy: 0.9595 - val_loss: 0.1052 - val_accuracy: 0.9689\n",
      "Epoch 90/100\n",
      "33/33 [==============================] - 0s 5ms/step - loss: 0.0839 - accuracy: 0.9710 - val_loss: 0.1120 - val_accuracy: 0.9600\n",
      "Epoch 91/100\n",
      "33/33 [==============================] - 0s 6ms/step - loss: 0.1007 - accuracy: 0.9590 - val_loss: 0.1092 - val_accuracy: 0.9600\n",
      "Epoch 92/100\n",
      "33/33 [==============================] - 0s 5ms/step - loss: 0.1040 - accuracy: 0.9670 - val_loss: 0.1026 - val_accuracy: 0.9689\n",
      "Epoch 93/100\n",
      "33/33 [==============================] - 0s 5ms/step - loss: 0.0939 - accuracy: 0.9723 - val_loss: 0.1038 - val_accuracy: 0.9689\n",
      "Epoch 94/100\n",
      "33/33 [==============================] - 0s 5ms/step - loss: 0.0983 - accuracy: 0.9653 - val_loss: 0.1042 - val_accuracy: 0.9689\n",
      "Epoch 95/100\n",
      "33/33 [==============================] - 0s 6ms/step - loss: 0.0899 - accuracy: 0.9735 - val_loss: 0.1018 - val_accuracy: 0.9622\n",
      "Epoch 96/100\n",
      "33/33 [==============================] - 0s 5ms/step - loss: 0.0916 - accuracy: 0.9682 - val_loss: 0.1036 - val_accuracy: 0.9644\n",
      "Epoch 97/100\n",
      "33/33 [==============================] - 0s 5ms/step - loss: 0.0966 - accuracy: 0.9634 - val_loss: 0.1010 - val_accuracy: 0.9622\n",
      "Epoch 98/100\n",
      "33/33 [==============================] - 0s 5ms/step - loss: 0.0917 - accuracy: 0.9696 - val_loss: 0.1016 - val_accuracy: 0.9667\n",
      "Epoch 99/100\n",
      "33/33 [==============================] - 0s 5ms/step - loss: 0.0871 - accuracy: 0.9691 - val_loss: 0.0999 - val_accuracy: 0.9644\n",
      "Epoch 100/100\n",
      "33/33 [==============================] - 0s 6ms/step - loss: 0.0840 - accuracy: 0.9712 - val_loss: 0.0986 - val_accuracy: 0.9711\n"
     ]
    }
   ],
   "source": [
    "hasil = model.fit(x_train, y_train, batch_size = 32, epochs = 100, validation_split=0.3)"
   ]
  },
  {
   "cell_type": "code",
   "execution_count": 38,
   "metadata": {},
   "outputs": [
    {
     "data": {
      "image/png": "[encoded data removed]",
      "text/plain": [
       "<Figure size 432x288 with 1 Axes>"
      ]
     },
     "metadata": {
      "needs_background": "light"
     },
     "output_type": "display_data"
    }
   ],
   "source": [
    "plt.title('Learning Curves')\n",
    "plt.xlabel('Epoch')\n",
    "plt.ylabel('Loss function')\n",
    "plt.plot(hasil.history['loss'], label='train')\n",
    "plt.plot(hasil.history['val_loss'], label='val')\n",
    "plt.legend()\n",
    "plt.show()"
   ]
  },
  {
   "cell_type": "code",
   "execution_count": 40,
   "metadata": {},
   "outputs": [
    {
     "data": {
      "image/png": "[encoded data removed]",
      "text/plain": [
       "<Figure size 432x288 with 1 Axes>"
      ]
     },
     "metadata": {
      "needs_background": "light"
     },
     "output_type": "display_data"
    }
   ],
   "source": [
    "plt.title('Learning Curves')\n",
    "plt.xlabel('Epoch')\n",
    "plt.ylabel('Accuracy')\n",
    "plt.plot(hasil.history['accuracy'], label='train')\n",
    "plt.plot(hasil.history['val_accuracy'], label='val')\n",
    "plt.legend()\n",
    "plt.show()"
   ]
  },
  {
   "cell_type": "code",
   "execution_count": 41,
   "metadata": {},
   "outputs": [
    {
     "name": "stdout",
     "output_type": "stream",
     "text": [
      "Test Accuracy_model: 0.960\n"
     ]
    }
   ],
   "source": [
    "loss, acc = model.evaluate(x_test, y_test, verbose=0)\n",
    "print('Test Accuracy_model: %.3f' % acc)"
   ]
  },
  {
   "cell_type": "markdown",
   "metadata": {},
   "source": [
    "## 10. Buat model ANN (NON-SMOTE)"
   ]
  },
  {
   "cell_type": "code",
   "execution_count": 42,
   "metadata": {},
   "outputs": [],
   "source": [
    "model_nosmote = Sequential()\n",
    "model_nosmote.add(Dense(16, input_shape=(6,), activation='relu'))\n",
    "model_nosmote.add(Dense(32, activation='relu'))\n",
    "model_nosmote.add(Dense(4, activation='sigmoid'))\n",
    "\n",
    "model_nosmote.compile(optimizer = 'adam', loss = 'sparse_categorical_crossentropy', metrics = ['accuracy'])"
   ]
  },
  {
   "cell_type": "code",
   "execution_count": 43,
   "metadata": {},
   "outputs": [],
   "source": [
    "from sklearn.model_selection import train_test_split\n",
    "\n",
    "x_train_nosmote, x_test_nosmote, y_train_nosmote, y_test_nosmote = train_test_split(scaled,Y, test_size = 0.2, random_state = 42)\n"
   ]
  },
  {
   "cell_type": "code",
   "execution_count": 44,
   "metadata": {},
   "outputs": [
    {
     "name": "stdout",
     "output_type": "stream",
     "text": [
      "Epoch 1/100\n",
      "11/11 [==============================] - 1s 31ms/step - loss: 1.3857 - accuracy: 0.2649 - val_loss: 1.2932 - val_accuracy: 0.7823\n",
      "Epoch 2/100\n",
      "11/11 [==============================] - 0s 10ms/step - loss: 1.2706 - accuracy: 0.7525 - val_loss: 1.1831 - val_accuracy: 0.7959\n",
      "Epoch 3/100\n",
      "11/11 [==============================] - 0s 10ms/step - loss: 1.1640 - accuracy: 0.7713 - val_loss: 1.0729 - val_accuracy: 0.7959\n",
      "Epoch 4/100\n",
      "11/11 [==============================] - 0s 9ms/step - loss: 1.0515 - accuracy: 0.7776 - val_loss: 0.9585 - val_accuracy: 0.7959\n",
      "Epoch 5/100\n",
      "11/11 [==============================] - 0s 10ms/step - loss: 0.9471 - accuracy: 0.7667 - val_loss: 0.8524 - val_accuracy: 0.7959\n",
      "Epoch 6/100\n",
      "11/11 [==============================] - 0s 9ms/step - loss: 0.8377 - accuracy: 0.7779 - val_loss: 0.7657 - val_accuracy: 0.7959\n",
      "Epoch 7/100\n",
      "11/11 [==============================] - 0s 10ms/step - loss: 0.7799 - accuracy: 0.7660 - val_loss: 0.7052 - val_accuracy: 0.7959\n",
      "Epoch 8/100\n",
      "11/11 [==============================] - 0s 10ms/step - loss: 0.7485 - accuracy: 0.7480 - val_loss: 0.6636 - val_accuracy: 0.7959\n",
      "Epoch 9/100\n",
      "11/11 [==============================] - 0s 10ms/step - loss: 0.6790 - accuracy: 0.7687 - val_loss: 0.6329 - val_accuracy: 0.7959\n",
      "Epoch 10/100\n",
      "11/11 [==============================] - 0s 10ms/step - loss: 0.6419 - accuracy: 0.7748 - val_loss: 0.6069 - val_accuracy: 0.7959\n",
      "Epoch 11/100\n",
      "11/11 [==============================] - 0s 10ms/step - loss: 0.6160 - accuracy: 0.7761 - val_loss: 0.5851 - val_accuracy: 0.7959\n",
      "Epoch 12/100\n",
      "11/11 [==============================] - 0s 10ms/step - loss: 0.6401 - accuracy: 0.7438 - val_loss: 0.5676 - val_accuracy: 0.7959\n",
      "Epoch 13/100\n",
      "11/11 [==============================] - 0s 11ms/step - loss: 0.5850 - accuracy: 0.7659 - val_loss: 0.5515 - val_accuracy: 0.7959\n",
      "Epoch 14/100\n",
      "11/11 [==============================] - 0s 9ms/step - loss: 0.5969 - accuracy: 0.7397 - val_loss: 0.5363 - val_accuracy: 0.7959\n",
      "Epoch 15/100\n",
      "11/11 [==============================] - 0s 10ms/step - loss: 0.4952 - accuracy: 0.7963 - val_loss: 0.5227 - val_accuracy: 0.7959\n",
      "Epoch 16/100\n",
      "11/11 [==============================] - 0s 10ms/step - loss: 0.5740 - accuracy: 0.7314 - val_loss: 0.5114 - val_accuracy: 0.7891\n",
      "Epoch 17/100\n",
      "11/11 [==============================] - 0s 10ms/step - loss: 0.4855 - accuracy: 0.7976 - val_loss: 0.5000 - val_accuracy: 0.7891\n",
      "Epoch 18/100\n",
      "11/11 [==============================] - 0s 10ms/step - loss: 0.5054 - accuracy: 0.7602 - val_loss: 0.4856 - val_accuracy: 0.7891\n",
      "Epoch 19/100\n",
      "11/11 [==============================] - 0s 10ms/step - loss: 0.4527 - accuracy: 0.8049 - val_loss: 0.4756 - val_accuracy: 0.7891\n",
      "Epoch 20/100\n",
      "11/11 [==============================] - 0s 10ms/step - loss: 0.4943 - accuracy: 0.7580 - val_loss: 0.4613 - val_accuracy: 0.7891\n",
      "Epoch 21/100\n",
      "11/11 [==============================] - 0s 9ms/step - loss: 0.4353 - accuracy: 0.8106 - val_loss: 0.4491 - val_accuracy: 0.7891\n",
      "Epoch 22/100\n",
      "11/11 [==============================] - 0s 10ms/step - loss: 0.4608 - accuracy: 0.7785 - val_loss: 0.4388 - val_accuracy: 0.7891\n",
      "Epoch 23/100\n",
      "11/11 [==============================] - 0s 10ms/step - loss: 0.4577 - accuracy: 0.7893 - val_loss: 0.4254 - val_accuracy: 0.7959\n",
      "Epoch 24/100\n",
      "11/11 [==============================] - 0s 11ms/step - loss: 0.4381 - accuracy: 0.7853 - val_loss: 0.4169 - val_accuracy: 0.7959\n",
      "Epoch 25/100\n",
      "11/11 [==============================] - 0s 10ms/step - loss: 0.4160 - accuracy: 0.8041 - val_loss: 0.4089 - val_accuracy: 0.7959\n",
      "Epoch 26/100\n",
      "11/11 [==============================] - 0s 10ms/step - loss: 0.4102 - accuracy: 0.8199 - val_loss: 0.4024 - val_accuracy: 0.8027\n",
      "Epoch 27/100\n",
      "11/11 [==============================] - 0s 10ms/step - loss: 0.3833 - accuracy: 0.8299 - val_loss: 0.3925 - val_accuracy: 0.8231\n",
      "Epoch 28/100\n",
      "11/11 [==============================] - 0s 11ms/step - loss: 0.3552 - accuracy: 0.8689 - val_loss: 0.3842 - val_accuracy: 0.8163\n",
      "Epoch 29/100\n",
      "11/11 [==============================] - 0s 11ms/step - loss: 0.3845 - accuracy: 0.8429 - val_loss: 0.3811 - val_accuracy: 0.8299\n",
      "Epoch 30/100\n",
      "11/11 [==============================] - 0s 10ms/step - loss: 0.3572 - accuracy: 0.8522 - val_loss: 0.3716 - val_accuracy: 0.8231\n",
      "Epoch 31/100\n",
      "11/11 [==============================] - 0s 10ms/step - loss: 0.3588 - accuracy: 0.8664 - val_loss: 0.3653 - val_accuracy: 0.8163\n",
      "Epoch 32/100\n",
      "11/11 [==============================] - 0s 10ms/step - loss: 0.3696 - accuracy: 0.8590 - val_loss: 0.3597 - val_accuracy: 0.8367\n",
      "Epoch 33/100\n",
      "11/11 [==============================] - 0s 11ms/step - loss: 0.3564 - accuracy: 0.8595 - val_loss: 0.3504 - val_accuracy: 0.8299\n",
      "Epoch 34/100\n",
      "11/11 [==============================] - 0s 10ms/step - loss: 0.3378 - accuracy: 0.8601 - val_loss: 0.3466 - val_accuracy: 0.8367\n",
      "Epoch 35/100\n",
      "11/11 [==============================] - 0s 11ms/step - loss: 0.3119 - accuracy: 0.9007 - val_loss: 0.3450 - val_accuracy: 0.8299\n",
      "Epoch 36/100\n",
      "11/11 [==============================] - 0s 12ms/step - loss: 0.3491 - accuracy: 0.8765 - val_loss: 0.3398 - val_accuracy: 0.8435\n",
      "Epoch 37/100\n",
      "11/11 [==============================] - 0s 10ms/step - loss: 0.3268 - accuracy: 0.8741 - val_loss: 0.3310 - val_accuracy: 0.8299\n",
      "Epoch 38/100\n",
      "11/11 [==============================] - 0s 11ms/step - loss: 0.3564 - accuracy: 0.8640 - val_loss: 0.3257 - val_accuracy: 0.8367\n",
      "Epoch 39/100\n",
      "11/11 [==============================] - 0s 9ms/step - loss: 0.3162 - accuracy: 0.8675 - val_loss: 0.3211 - val_accuracy: 0.8367\n",
      "Epoch 40/100\n",
      "11/11 [==============================] - 0s 10ms/step - loss: 0.2904 - accuracy: 0.8898 - val_loss: 0.3198 - val_accuracy: 0.8435\n",
      "Epoch 41/100\n",
      "11/11 [==============================] - 0s 18ms/step - loss: 0.3027 - accuracy: 0.8959 - val_loss: 0.3166 - val_accuracy: 0.8367\n",
      "Epoch 42/100\n",
      "11/11 [==============================] - 0s 10ms/step - loss: 0.3030 - accuracy: 0.8883 - val_loss: 0.3122 - val_accuracy: 0.8435\n",
      "Epoch 43/100\n",
      "11/11 [==============================] - 0s 10ms/step - loss: 0.3081 - accuracy: 0.8778 - val_loss: 0.3040 - val_accuracy: 0.8503\n",
      "Epoch 44/100\n",
      "11/11 [==============================] - 0s 10ms/step - loss: 0.2764 - accuracy: 0.9178 - val_loss: 0.3019 - val_accuracy: 0.8503\n",
      "Epoch 45/100\n",
      "11/11 [==============================] - 0s 10ms/step - loss: 0.3134 - accuracy: 0.8794 - val_loss: 0.3001 - val_accuracy: 0.8707\n",
      "Epoch 46/100\n",
      "11/11 [==============================] - 0s 10ms/step - loss: 0.2793 - accuracy: 0.9142 - val_loss: 0.2976 - val_accuracy: 0.8435\n",
      "Epoch 47/100\n",
      "11/11 [==============================] - 0s 10ms/step - loss: 0.3034 - accuracy: 0.8994 - val_loss: 0.2938 - val_accuracy: 0.8503\n",
      "Epoch 48/100\n",
      "11/11 [==============================] - 0s 9ms/step - loss: 0.2821 - accuracy: 0.9057 - val_loss: 0.2902 - val_accuracy: 0.8776\n",
      "Epoch 49/100\n",
      "11/11 [==============================] - 0s 10ms/step - loss: 0.2498 - accuracy: 0.9274 - val_loss: 0.2850 - val_accuracy: 0.8503\n",
      "Epoch 50/100\n",
      "11/11 [==============================] - 0s 10ms/step - loss: 0.2856 - accuracy: 0.9170 - val_loss: 0.2847 - val_accuracy: 0.8503\n",
      "Epoch 51/100\n",
      "11/11 [==============================] - 0s 9ms/step - loss: 0.2845 - accuracy: 0.8821 - val_loss: 0.2803 - val_accuracy: 0.8776\n",
      "Epoch 52/100\n",
      "11/11 [==============================] - 0s 10ms/step - loss: 0.2471 - accuracy: 0.9258 - val_loss: 0.2755 - val_accuracy: 0.8707\n",
      "Epoch 53/100\n",
      "11/11 [==============================] - 0s 11ms/step - loss: 0.2953 - accuracy: 0.9007 - val_loss: 0.2747 - val_accuracy: 0.8776\n",
      "Epoch 54/100\n",
      "11/11 [==============================] - 0s 10ms/step - loss: 0.2681 - accuracy: 0.8981 - val_loss: 0.2719 - val_accuracy: 0.8707\n",
      "Epoch 55/100\n",
      "11/11 [==============================] - 0s 9ms/step - loss: 0.2810 - accuracy: 0.8914 - val_loss: 0.2677 - val_accuracy: 0.8776\n",
      "Epoch 56/100\n",
      "11/11 [==============================] - 0s 11ms/step - loss: 0.2447 - accuracy: 0.9322 - val_loss: 0.2668 - val_accuracy: 0.8844\n",
      "Epoch 57/100\n",
      "11/11 [==============================] - 0s 11ms/step - loss: 0.2273 - accuracy: 0.9340 - val_loss: 0.2648 - val_accuracy: 0.8844\n",
      "Epoch 58/100\n",
      "11/11 [==============================] - 0s 10ms/step - loss: 0.2580 - accuracy: 0.9156 - val_loss: 0.2613 - val_accuracy: 0.8980\n",
      "Epoch 59/100\n",
      "11/11 [==============================] - 0s 10ms/step - loss: 0.2215 - accuracy: 0.9190 - val_loss: 0.2575 - val_accuracy: 0.8912\n",
      "Epoch 60/100\n",
      "11/11 [==============================] - 0s 9ms/step - loss: 0.2524 - accuracy: 0.9050 - val_loss: 0.2573 - val_accuracy: 0.8707\n",
      "Epoch 61/100\n",
      "11/11 [==============================] - 0s 9ms/step - loss: 0.2694 - accuracy: 0.9010 - val_loss: 0.2550 - val_accuracy: 0.8912\n",
      "Epoch 62/100\n",
      "11/11 [==============================] - 0s 10ms/step - loss: 0.2487 - accuracy: 0.8818 - val_loss: 0.2522 - val_accuracy: 0.8980\n",
      "Epoch 63/100\n",
      "11/11 [==============================] - 0s 11ms/step - loss: 0.2525 - accuracy: 0.8966 - val_loss: 0.2507 - val_accuracy: 0.8980\n",
      "Epoch 64/100\n",
      "11/11 [==============================] - 0s 13ms/step - loss: 0.2653 - accuracy: 0.8847 - val_loss: 0.2487 - val_accuracy: 0.8776\n",
      "Epoch 65/100\n",
      "11/11 [==============================] - 0s 11ms/step - loss: 0.2473 - accuracy: 0.9059 - val_loss: 0.2466 - val_accuracy: 0.8912\n",
      "Epoch 66/100\n",
      "11/11 [==============================] - 0s 10ms/step - loss: 0.2113 - accuracy: 0.9313 - val_loss: 0.2453 - val_accuracy: 0.8776\n",
      "Epoch 67/100\n",
      "11/11 [==============================] - 0s 9ms/step - loss: 0.2435 - accuracy: 0.9126 - val_loss: 0.2421 - val_accuracy: 0.8980\n",
      "Epoch 68/100\n",
      "11/11 [==============================] - 0s 10ms/step - loss: 0.2211 - accuracy: 0.9319 - val_loss: 0.2424 - val_accuracy: 0.8980\n",
      "Epoch 69/100\n",
      "11/11 [==============================] - 0s 9ms/step - loss: 0.2263 - accuracy: 0.9055 - val_loss: 0.2384 - val_accuracy: 0.8980\n",
      "Epoch 70/100\n",
      "11/11 [==============================] - 0s 10ms/step - loss: 0.2220 - accuracy: 0.9098 - val_loss: 0.2361 - val_accuracy: 0.8844\n",
      "Epoch 71/100\n",
      "11/11 [==============================] - 0s 10ms/step - loss: 0.2379 - accuracy: 0.9208 - val_loss: 0.2339 - val_accuracy: 0.9116\n",
      "Epoch 72/100\n",
      "11/11 [==============================] - 0s 9ms/step - loss: 0.2071 - accuracy: 0.9227 - val_loss: 0.2327 - val_accuracy: 0.8844\n",
      "Epoch 73/100\n",
      "11/11 [==============================] - 0s 9ms/step - loss: 0.2316 - accuracy: 0.9225 - val_loss: 0.2314 - val_accuracy: 0.8912\n",
      "Epoch 74/100\n",
      "11/11 [==============================] - 0s 10ms/step - loss: 0.2233 - accuracy: 0.9347 - val_loss: 0.2308 - val_accuracy: 0.9116\n",
      "Epoch 75/100\n",
      "11/11 [==============================] - 0s 9ms/step - loss: 0.2383 - accuracy: 0.9090 - val_loss: 0.2274 - val_accuracy: 0.9048\n",
      "Epoch 76/100\n",
      "11/11 [==============================] - 0s 9ms/step - loss: 0.1945 - accuracy: 0.9205 - val_loss: 0.2276 - val_accuracy: 0.8980\n",
      "Epoch 77/100\n",
      "11/11 [==============================] - 0s 10ms/step - loss: 0.2078 - accuracy: 0.9337 - val_loss: 0.2260 - val_accuracy: 0.9116\n",
      "Epoch 78/100\n",
      "11/11 [==============================] - 0s 10ms/step - loss: 0.2494 - accuracy: 0.9180 - val_loss: 0.2235 - val_accuracy: 0.9048\n",
      "Epoch 79/100\n",
      "11/11 [==============================] - 0s 10ms/step - loss: 0.2147 - accuracy: 0.9141 - val_loss: 0.2224 - val_accuracy: 0.9048\n",
      "Epoch 80/100\n",
      "11/11 [==============================] - 0s 10ms/step - loss: 0.2019 - accuracy: 0.9267 - val_loss: 0.2220 - val_accuracy: 0.9252\n",
      "Epoch 81/100\n",
      "11/11 [==============================] - 0s 19ms/step - loss: 0.1935 - accuracy: 0.9396 - val_loss: 0.2227 - val_accuracy: 0.9184\n",
      "Epoch 82/100\n",
      "11/11 [==============================] - 0s 11ms/step - loss: 0.2368 - accuracy: 0.9086 - val_loss: 0.2180 - val_accuracy: 0.9116\n",
      "Epoch 83/100\n",
      "11/11 [==============================] - 0s 10ms/step - loss: 0.2122 - accuracy: 0.9254 - val_loss: 0.2174 - val_accuracy: 0.9184\n",
      "Epoch 84/100\n",
      "11/11 [==============================] - 0s 10ms/step - loss: 0.2151 - accuracy: 0.9222 - val_loss: 0.2160 - val_accuracy: 0.9116\n",
      "Epoch 85/100\n",
      "11/11 [==============================] - 0s 9ms/step - loss: 0.1974 - accuracy: 0.9411 - val_loss: 0.2145 - val_accuracy: 0.9184\n",
      "Epoch 86/100\n",
      "11/11 [==============================] - 0s 10ms/step - loss: 0.2065 - accuracy: 0.9201 - val_loss: 0.2142 - val_accuracy: 0.9184\n",
      "Epoch 87/100\n",
      "11/11 [==============================] - 0s 9ms/step - loss: 0.1879 - accuracy: 0.9247 - val_loss: 0.2119 - val_accuracy: 0.9116\n",
      "Epoch 88/100\n",
      "11/11 [==============================] - 0s 9ms/step - loss: 0.1980 - accuracy: 0.9236 - val_loss: 0.2100 - val_accuracy: 0.9252\n",
      "Epoch 89/100\n",
      "11/11 [==============================] - 0s 9ms/step - loss: 0.1752 - accuracy: 0.9393 - val_loss: 0.2092 - val_accuracy: 0.9116\n",
      "Epoch 90/100\n",
      "11/11 [==============================] - 0s 9ms/step - loss: 0.2011 - accuracy: 0.9160 - val_loss: 0.2106 - val_accuracy: 0.9252\n",
      "Epoch 91/100\n",
      "11/11 [==============================] - 0s 10ms/step - loss: 0.1950 - accuracy: 0.9315 - val_loss: 0.2110 - val_accuracy: 0.9116\n",
      "Epoch 92/100\n",
      "11/11 [==============================] - 0s 10ms/step - loss: 0.1930 - accuracy: 0.9198 - val_loss: 0.2111 - val_accuracy: 0.9320\n",
      "Epoch 93/100\n",
      "11/11 [==============================] - 0s 10ms/step - loss: 0.1838 - accuracy: 0.9316 - val_loss: 0.2101 - val_accuracy: 0.9184\n",
      "Epoch 94/100\n",
      "11/11 [==============================] - 0s 10ms/step - loss: 0.1953 - accuracy: 0.9222 - val_loss: 0.2066 - val_accuracy: 0.9252\n",
      "Epoch 95/100\n",
      "11/11 [==============================] - 0s 9ms/step - loss: 0.1929 - accuracy: 0.9340 - val_loss: 0.2059 - val_accuracy: 0.9116\n",
      "Epoch 96/100\n",
      "11/11 [==============================] - 0s 10ms/step - loss: 0.1985 - accuracy: 0.9209 - val_loss: 0.2068 - val_accuracy: 0.9184\n",
      "Epoch 97/100\n",
      "11/11 [==============================] - 0s 9ms/step - loss: 0.1879 - accuracy: 0.9207 - val_loss: 0.2040 - val_accuracy: 0.9184\n",
      "Epoch 98/100\n",
      "11/11 [==============================] - 0s 10ms/step - loss: 0.1704 - accuracy: 0.9368 - val_loss: 0.2033 - val_accuracy: 0.9184\n",
      "Epoch 99/100\n",
      "11/11 [==============================] - 0s 10ms/step - loss: 0.1607 - accuracy: 0.9370 - val_loss: 0.2026 - val_accuracy: 0.9184\n",
      "Epoch 100/100\n",
      "11/11 [==============================] - 0s 10ms/step - loss: 0.1887 - accuracy: 0.9173 - val_loss: 0.2027 - val_accuracy: 0.9184\n"
     ]
    }
   ],
   "source": [
    "hasil_nosmote = model_nosmote.fit(x_train_nosmote, y_train_nosmote, batch_size = 32, epochs = 100, validation_split=0.3)"
   ]
  },
  {
   "cell_type": "code",
   "execution_count": 45,
   "metadata": {},
   "outputs": [
    {
     "data": {
      "image/png": "[encoded data removed]",
      "text/plain": [
       "<Figure size 432x288 with 1 Axes>"
      ]
     },
     "metadata": {
      "needs_background": "light"
     },
     "output_type": "display_data"
    }
   ],
   "source": [
    "plt.title('Learning Curves')\n",
    "plt.xlabel('Epoch')\n",
    "plt.ylabel('Loss function')\n",
    "plt.plot(hasil_nosmote.history['loss'], label='train')\n",
    "plt.plot(hasil_nosmote.history['val_loss'], label='val')\n",
    "plt.legend()\n",
    "plt.show()"
   ]
  },
  {
   "cell_type": "code",
   "execution_count": 47,
   "metadata": {},
   "outputs": [
    {
     "data": {
      "image/png": "[encoded data removed]",
      "text/plain": [
       "<Figure size 432x288 with 1 Axes>"
      ]
     },
     "metadata": {
      "needs_background": "light"
     },
     "output_type": "display_data"
    }
   ],
   "source": [
    "plt.title('Learning Curves')\n",
    "plt.xlabel('Epoch')\n",
    "plt.ylabel('Loss function')\n",
    "plt.plot(hasil_nosmote.history['accuracy'], label='train')\n",
    "plt.plot(hasil_nosmote.history['val_accuracy'], label='val')\n",
    "plt.legend()\n",
    "plt.show()"
   ]
  },
  {
   "cell_type": "code",
   "execution_count": 48,
   "metadata": {},
   "outputs": [
    {
     "name": "stdout",
     "output_type": "stream",
     "text": [
      "Test Accuracy_model: 0.927\n"
     ]
    }
   ],
   "source": [
    "loss, acc = model.evaluate(x_test_nosmote, y_test_nosmote, verbose=0)\n",
    "print('Test Accuracy_model: %.3f' % acc)"
   ]
  },
  {
   "cell_type": "code",
   "execution_count": null,
   "metadata": {},
   "outputs": [],
   "source": []
  }
 ],
 "metadata": {
  "kernelspec": {
   "display_name": "python (tf)",
   "language": "python",
   "name": "tf"
  },
  "language_info": {
   "codemirror_mode": {
    "name": "ipython",
    "version": 3
   },
   "file_extension": ".py",
   "mimetype": "text/x-python",
   "name": "python",
   "nbconvert_exporter": "python",
   "pygments_lexer": "ipython3",
   "version": "3.7.6"
  }
 },
 "nbformat": 4,
 "nbformat_minor": 4
}
